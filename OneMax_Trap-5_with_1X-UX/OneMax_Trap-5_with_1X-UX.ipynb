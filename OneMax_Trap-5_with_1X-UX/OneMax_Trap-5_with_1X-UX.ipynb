{
  "cells": [
    {
      "cell_type": "markdown",
      "source": [
        "# Import libraries"
      ],
      "metadata": {
        "id": "pEF9bAidU3Il"
      }
    },
    {
      "cell_type": "code",
      "execution_count": 1,
      "metadata": {
        "collapsed": true,
        "id": "r__fmusqNNuu"
      },
      "outputs": [],
      "source": [
        "import numpy as np\n",
        "import random"
      ]
    },
    {
      "cell_type": "markdown",
      "source": [
        "# Initialize necessary function"
      ],
      "metadata": {
        "id": "GGtnb9LmVnWa"
      }
    },
    {
      "cell_type": "code",
      "execution_count": 2,
      "metadata": {
        "id": "cDw0uXxPNNuv"
      },
      "outputs": [],
      "source": [
        "def initialize_population( num_individuals, num_variables ):\n",
        "    \"\"\"\n",
        "    Khởi tạo quần thể gồm num_individuals cá thể. Mỗi cá thể có num_parameters biến.\n",
        "    \n",
        "    Arguments:\n",
        "    num_individuals -- Số lượng cá thể\n",
        "    num_variables -- Số lượng biến\n",
        "    \n",
        "    Returns:\n",
        "    pop -- Ma trận (num_individuals, num_variables ) chứa quần thể mới được khởi tạo ngẫu nhiên.\n",
        "    \"\"\"\n",
        "    \n",
        "    ### BẮT ĐẦU CODE TỪ ĐÂY ### \n",
        "    # pop = np.random.randint(2, size=(num_individuals, num_variables))\n",
        "    halfnum_individuals = num_individuals/2\n",
        "    pop = []\n",
        "    for i in range(num_variables):\n",
        "        row = [1 if x < halfnum_individuals else 0 for x in range(num_individuals)]\n",
        "        np.random.shuffle(row)\n",
        "        pop.append(row)\n",
        "    return np.transpose(pop)\n",
        "    ### DỪNG CODE TẠI ĐÂY ###\n",
        "    \n",
        "    return pop"
      ]
    },
    {
      "cell_type": "code",
      "execution_count": 3,
      "metadata": {
        "id": "sexPh34MNNuw"
      },
      "outputs": [],
      "source": [
        "def onemax( ind ):\n",
        "    \"\"\"\n",
        "    Hàm đánh giá OneMax: Đếm số bit 1 trong chuỗi nhị phân (cá thể ind).\n",
        "    \n",
        "    Arguments:\n",
        "    ind -- Cá thể cần được đánh giá.\n",
        "\n",
        "    Returns:\n",
        "    value -- Giá trị của cá thể ind.\n",
        "    \"\"\"\n",
        "    \n",
        "    ### BẮT ĐẦU CODE TỪ ĐÂY ###     \n",
        "    value = np.sum(ind)\n",
        "    \n",
        "    ### DỪNG CODE TẠI ĐÂY ###\n",
        "    \n",
        "    return value"
      ]
    },
    {
      "cell_type": "code",
      "source": [
        "def trap(ind, num_variables, k = 5):\n",
        "  \"\"\"\n",
        "  Hàm trap k.\n",
        "\n",
        "  Arguments:\n",
        "  ind -- cá thể cần đo độ phù hợp\n",
        "  num_variables -- chiều dài cá thể chia hết cho k\n",
        "  k -- kích thước một tổ hợp trap trong cá thể\n",
        "\n",
        "  Returns:\n",
        "  value -- giá trị phù hợp của cá thể\n",
        "  \"\"\"\n",
        "  value = 0\n",
        "  for i in range(0, num_variables, k):\n",
        "    value += (np.sum(ind[i:i+k]) if np.sum(ind[i:i+k]) == k else k - 1 - np.sum(ind[i:i+k]))\n",
        "  return value"
      ],
      "metadata": {
        "id": "WQpcv1aQ_r4E"
      },
      "execution_count": 4,
      "outputs": []
    },
    {
      "cell_type": "code",
      "source": [
        "def tournament_selection(pop, pop_fitness):\n",
        "    \"\"\"\n",
        "    Hàm chọn lọc kiểu tournament.\n",
        "\n",
        "    Arguments:\n",
        "    pop -- quần thể\n",
        "    pop_fitness -- độ phù hợp của các cá thể trong quần thể\n",
        "\n",
        "    Returns:\n",
        "    selected_indices -- index của các cá thể được chọn trong pop\n",
        "    \"\"\"\n",
        "    indies = np.arange(len(pop_fitness))\n",
        "    selected_indices = []\n",
        "    size = len(pop_fitness)\n",
        "    #round 1\n",
        "    for i in range (0, size, 4):\n",
        "      selected_indices.append(max(indies[i:i+4], key=lambda x: pop_fitness[x]))\n",
        "    \n",
        "    #round 2\n",
        "    np.random.shuffle(indies)\n",
        "    for i in range (0, size, 4):\n",
        "      selected_indices.append(max(indies[i:i+4], key=lambda x: pop_fitness[x]))\n",
        "    \n",
        "    selected_indices = np.array(selected_indices)\n",
        "    return selected_indices"
      ],
      "metadata": {
        "id": "MazayhEp2n-O"
      },
      "execution_count": 5,
      "outputs": []
    },
    {
      "cell_type": "code",
      "execution_count": 6,
      "metadata": {
        "id": "KYtI5HO2NNuy"
      },
      "outputs": [],
      "source": [
        "def UX_crossover( pop ):\n",
        "    \"\"\"\n",
        "    Hàm biến đổi tạo ra các cá thể con.\n",
        "    \n",
        "    Arguments:\n",
        "    pop -- Quàn thể hiện tại.\n",
        "\n",
        "    Returns:\n",
        "    offspring -- Quần thể chứa các cá thể con được sinh ra.\n",
        "    \"\"\"  \n",
        "    \n",
        "    ### BẮT ĐẦU CODE TỪ ĐÂY ### \n",
        "    num_individuals = len(pop)\n",
        "    num_parameters = len(pop[0])\n",
        "    indices = np.arange(num_individuals)\n",
        "    # Đảo ngẫu nhiên thứ tự các cá thể trong quần thể\n",
        "    np.random.shuffle(indices)\n",
        "    offspring = []\n",
        "    \n",
        "    for i in range(0, num_individuals, 2):\n",
        "        idx1 = indices[i]\n",
        "        idx2 = indices[i+1]\n",
        "        offspring1 = list(pop[idx1])\n",
        "        offspring2 = list(pop[idx2])\n",
        "        \n",
        "        # Cài đặt phép lai đồng nhất uniform crossover. \n",
        "        # Không cần cài đặt đột biến mutation.\n",
        "        for idx in range(0, num_parameters):\n",
        "            r = np.random.rand()\n",
        "            if r < 0.5:\n",
        "                temp = offspring2[idx] \n",
        "                offspring2[idx] = offspring1[idx]\n",
        "                offspring1[idx] = temp\n",
        "\n",
        "        offspring.append(offspring1)\n",
        "        offspring.append(offspring2)\n",
        "\n",
        "\n",
        "    ### DỪNG CODE TẠI ĐÂY ###\n",
        "    \n",
        "    offspring = np.array(offspring)\n",
        "    return offspring"
      ]
    },
    {
      "cell_type": "code",
      "execution_count": 7,
      "metadata": {
        "id": "WZwtCmzNYzOY"
      },
      "outputs": [],
      "source": [
        "def OneX_crossover( pop ):\n",
        "    \"\"\"\n",
        "    Hàm biến đổi tạo ra các cá thể con.\n",
        "    \n",
        "    Arguments:\n",
        "    pop -- Quàn thể hiện tại.\n",
        "\n",
        "    Returns:\n",
        "    offspring -- Quần thể chứa các cá thể con được sinh ra.\n",
        "    \"\"\"  \n",
        "    \n",
        "    ### BẮT ĐẦU CODE TỪ ĐÂY ### \n",
        "    num_individuals = len(pop)\n",
        "    num_parameters = len(pop[0])\n",
        "    indices = np.arange(num_individuals)\n",
        "    # Đảo ngẫu nhiên thứ tự các cá thể trong quần thể\n",
        "    np.random.shuffle(indices)\n",
        "    offspring = []\n",
        "    \n",
        "    for i in range(0, num_individuals, 2):\n",
        "        idx1 = indices[i]\n",
        "        idx2 = indices[i+1]\n",
        "        offspring1 = list(pop[idx1])\n",
        "        offspring2 = list(pop[idx2])\n",
        "        \n",
        "        # Cài đặt phép lai đồng nhất uniform crossover. \n",
        "        # Không cần cài đặt đột biến mutation.\n",
        "        r = np.random.randint(num_parameters)\n",
        "        temp = offspring2[r:] \n",
        "        offspring2[r:] = offspring1[r:]\n",
        "        offspring1[r:] = temp\n",
        "\n",
        "        offspring.append(offspring1)\n",
        "        offspring.append(offspring2)\n",
        "\n",
        "\n",
        "    ### DỪNG CODE TẠI ĐÂY ###\n",
        "    \n",
        "    offspring = np.array(offspring)\n",
        "    return offspring"
      ]
    },
    {
      "cell_type": "code",
      "execution_count": 8,
      "metadata": {
        "id": "YPG8Ayu_yzwC"
      },
      "outputs": [],
      "source": [
        "def mutation(pop, mutation_prob):\n",
        "    num_individuals = len(pop)\n",
        "    num_parameters = len(pop[0])\n",
        "    for i in range(0, num_individuals):\n",
        "        for j in range(0, num_parameters):\n",
        "            r = np.random.rand()\n",
        "            if r < mutation_prob:\n",
        "                if pop[i][j] == 0:\n",
        "                    pop[i][j] = 1\n",
        "                else:\n",
        "                    pop[i][j] = 0\n",
        "    \n",
        "    return pop"
      ]
    },
    {
      "cell_type": "code",
      "source": [
        "def check_convergence(pop, num_individuals):\n",
        "    \"\"\"\n",
        "    Hàm kiểm tra sự hội tụ của quần thể\n",
        "\n",
        "    Arguments:\n",
        "    pop -- quần thể\n",
        "    pop_fitness -- độ phù hợp của các cá thể trong quần thể\n",
        "    num_individuals -- số cá thể của quần thể\n",
        "\n",
        "    Returns:\n",
        "    Quần thể có hội tụ chưa\n",
        "    \"\"\"\n",
        "\n",
        "    pop = np.transpose(pop)\n",
        "    pop_truth = all([np.sum(ind) in [0, num_individuals] for ind in pop])\n",
        "    return pop_truth"
      ],
      "metadata": {
        "id": "OcgV2AtCHk33"
      },
      "execution_count": 9,
      "outputs": []
    },
    {
      "cell_type": "markdown",
      "source": [
        "# POPOP implementation"
      ],
      "metadata": {
        "id": "jAAFss86VWCL"
      }
    },
    {
      "cell_type": "code",
      "execution_count": 10,
      "metadata": {
        "id": "s-tug82wvrIV"
      },
      "outputs": [],
      "source": [
        "def POPOP(num_individuals, num_parameters, func, crossover_type = \"UX\"):\n",
        "    \"\"\"\n",
        "    Thuật toán di truyền theo phương pháp POPOP\n",
        "\n",
        "    Arguments:\n",
        "    num_individuals -- số cá thể của quần thể\n",
        "    num_parameters -- số biến của cá thể\n",
        "    crossover_type -- dạng lai ghép\n",
        "\n",
        "    Returns:\n",
        "    pop -- quần thể sau tiến hóa\n",
        "    pop_fitness -- độ phù hợp của quần thể sau tiến hóa\n",
        "    num_evaluation -- số lần gọi hàm đánh giá\n",
        "    \"\"\"\n",
        "\n",
        "    pop = initialize_population(num_individuals, num_parameters)\n",
        "    if(func==\"OneMax\"):\n",
        "      pop_fitness = np.array([onemax(ind) for ind in pop])\n",
        "    elif(func==\"Trap\"):\n",
        "      pop_fitness = np.array([trap(ind, num_parameters) for ind in pop])\n",
        "    num_evaluation = num_individuals\n",
        "    # selection_size = num_individuals // 2\n",
        "    # print(num_individuals)\n",
        "    while(not check_convergence(pop, num_individuals)):\n",
        "        \n",
        "        if(crossover_type == \"UX\"):\n",
        "          offspring = UX_crossover(pop)\n",
        "        elif (crossover_type == \"1X\"):\n",
        "          offspring = OneX_crossover(pop)\n",
        "        # offspring = mutation(offspring, 0)\n",
        "        if(func==\"OneMax\"):\n",
        "          offspring_fitness = np.array([onemax(ind) for ind in offspring])\n",
        "        elif(func==\"Trap\"):\n",
        "          offspring_fitness = np.array([trap(ind, num_parameters) for ind in offspring])\n",
        "\n",
        "        num_evaluation += num_individuals\n",
        "\n",
        "        pop = np.vstack([pop, offspring])\n",
        "        pop_fitness = np.concatenate((pop_fitness, offspring_fitness))\n",
        "\n",
        "        selected_indices = tournament_selection(pop, pop_fitness)\n",
        "        selection_set = pop[selected_indices]\n",
        "        selection_fitness = pop_fitness[selected_indices]\n",
        "\n",
        "        pop = selection_set\n",
        "        pop_fitness = selection_fitness\n",
        "\n",
        "\n",
        "    return(pop, pop_fitness, num_evaluation)"
      ]
    },
    {
      "cell_type": "markdown",
      "source": [
        "# Upper bound of MRPS function"
      ],
      "metadata": {
        "id": "DEDsOSkzX-ev"
      }
    },
    {
      "cell_type": "code",
      "source": [
        "def is_success(num_individuals, num_parameters, seed, func, crossover_type, efforts = 10):\n",
        "  evaluation = 0\n",
        "  for i in range(efforts):\n",
        "      np.random.seed(seed + i)\n",
        "      pop, pop_fitness, num_evaluation = POPOP(num_individuals, num_parameters, func, crossover_type)\n",
        "      evaluation += num_evaluation\n",
        "      if(pop_fitness[0] != num_parameters): \n",
        "          return (False, evaluation/(i+1))\n",
        "          \n",
        "  return (True, evaluation/efforts)"
      ],
      "metadata": {
        "id": "0j6a0mwgcbOD"
      },
      "execution_count": 11,
      "outputs": []
    },
    {
      "cell_type": "code",
      "execution_count": 12,
      "metadata": {
        "id": "_M6RxNZxxw8u"
      },
      "outputs": [],
      "source": [
        "def find_upper_bound(num_parameters, num_individuals, seed, func, crossover_type = \"UX\", efforts = 10):\n",
        "    success = False\n",
        "    upper_bound = num_individuals\n",
        "    while(not success):\n",
        "      if(upper_bound > 8192): return (None, None)\n",
        "      success, evaluation = is_success(upper_bound, num_parameters, seed, func, crossover_type)\n",
        "      if(not success): \n",
        "          upper_bound *=2 \n",
        "          # print(\"Upper bound\", upper_bound)\n",
        "    \n",
        "    return (upper_bound, evaluation)"
      ]
    },
    {
      "cell_type": "markdown",
      "source": [
        "# Finding MRPS function"
      ],
      "metadata": {
        "id": "OXJ5K3zwiUhG"
      }
    },
    {
      "cell_type": "code",
      "source": [
        "def find_mrps(upper_bound, upper_evaluation, num_parameters, seed, func, crossover_type = \"UX\", efforts = 10):\n",
        "    evaluation = upper_evaluation\n",
        "    lower_bound = upper_bound/2\n",
        "    while( (upper_bound - lower_bound)/upper_bound > 0.1 ):\n",
        "      num_individuals = (upper_bound + lower_bound)/2\n",
        "      test_evaluation = 0\n",
        "\n",
        "      success, test_evaluation = is_success(upper_bound, num_parameters, seed, func, crossover_type)\n",
        "\n",
        "      if(success):\n",
        "        evaluation = test_evaluation\n",
        "        upper_bound = num_individuals\n",
        "        # print(\"Upper bound:\", upper_bound)\n",
        "        # print(\"Evaluation:\", evaluation)\n",
        "      else:\n",
        "        lower_bound = num_individuals\n",
        "      \n",
        "      if(upper_bound - lower_bound <= 2): \n",
        "        break\n",
        "      return (upper_bound, evaluation)"
      ],
      "metadata": {
        "id": "rpure-AcifWh"
      },
      "execution_count": 13,
      "outputs": []
    },
    {
      "cell_type": "markdown",
      "source": [
        "# Bisection implemetation"
      ],
      "metadata": {
        "id": "LoINpi6DmEvu"
      }
    },
    {
      "cell_type": "code",
      "source": [
        "problem_size = 10\n",
        "num_individuals = 4\n",
        "mssv = 20520835\n",
        "crossover_type = \"UX\"\n",
        "func = \"OneMax\"\n",
        "bisection = 10\n",
        "mrpses = []\n",
        "evaluations = []\n",
        "over_max = False\n",
        "# a_mrpses = []\n",
        "# b_mrpses = []\n",
        "\n",
        "for i in range(bisection):\n",
        "  seed = mssv + i*10\n",
        "  # print(seed)\n",
        "  upper_bound, upper_evalutation = find_upper_bound(problem_size, num_individuals, seed, func, crossover_type)\n",
        "  # print(upper_bound, upper_evalutation)\n",
        "  if(upper_bound == None): \n",
        "    over_max = True\n",
        "    break\n",
        "  mrps, evaluation = find_mrps(upper_bound, upper_evalutation, problem_size, seed, func, crossover_type)\n",
        "  print(mrps,\" \", evaluation, \",\", sep=\"\")\n",
        "  mrpses.append(mrps)\n",
        "  evaluations.append(evaluation)\n",
        "\n",
        "if(not over_max):\n",
        "  mean_mrps = np.mean(mrpses)\n",
        "  std_mrps = np.std(mrpses, ddof=1)\n",
        "  mean_eva = np.mean(evaluations)\n",
        "  std_eva = np.std(evaluations, ddof=1)\n",
        "\n",
        "  print(round(mean_mrps, 2), \" (\", + round(std_mrps, 2), \")\", sep=\"\")\n",
        "  print(round(mean_eva, 2), \" (\", round(std_eva, 2), \")\", sep=\"\")\n",
        "else: print(None)"
      ],
      "metadata": {
        "colab": {
          "base_uri": "https://localhost:8080/"
        },
        "id": "vKhhgTbCGyNG",
        "outputId": "305f7a05-f115-41a3-db59-3f9ebe5e0538"
      },
      "execution_count": 14,
      "outputs": [
        {
          "output_type": "stream",
          "name": "stdout",
          "text": [
            "24.0 217.6,\n",
            "24.0 227.2,\n",
            "12.0 115.2,\n",
            "24.0 220.8,\n",
            "12.0 108.8,\n",
            "24.0 227.2,\n",
            "12.0 113.6,\n",
            "12.0 113.6,\n",
            "12.0 107.2,\n",
            "24.0 214.4,\n",
            "18.0 (6.32)\n",
            "166.56 (58.02)\n"
          ]
        }
      ]
    },
    {
      "cell_type": "markdown",
      "source": [
        "# Check for statistical significance"
      ],
      "metadata": {
        "id": "_rZaIZzXmh2s"
      }
    },
    {
      "cell_type": "code",
      "source": [
        "import os  \n",
        "import pandas as pd\n",
        "import matplotlib.pyplot as plt\n",
        "import matplotlib.ticker as mticker\n",
        "from scipy import stats"
      ],
      "metadata": {
        "id": "GNYHIOhNnHML"
      },
      "execution_count": 15,
      "outputs": []
    },
    {
      "cell_type": "markdown",
      "source": [
        "1. OneMax"
      ],
      "metadata": {
        "id": "WGsa0xgMnCRu"
      }
    },
    {
      "cell_type": "markdown",
      "source": [
        "* Calculate std"
      ],
      "metadata": {
        "id": "BOmslyqFvwPP"
      }
    },
    {
      "cell_type": "code",
      "source": [
        "pop_size = pd.read_excel(\"BaoCaoLab2_CS410.xlsx\", sheet_name=\"OneMax\", index_col=0, skiprows=1, nrows=10)\n",
        "evaluations_size = pd.read_excel(\"BaoCaoLab2_CS410.xlsx\", sheet_name=\"OneMax\", index_col=0, skiprows=15, nrows=10)\n",
        "print(pop_size)\n",
        "print(evaluations_size)\n",
        "\n",
        "size_OneX = pd.DataFrame({\"Random seed\": pop_size.index, \n",
        "                           10: pop_size[10], \n",
        "                           20: pop_size[20], \n",
        "                           40: pop_size[40], \n",
        "                           80: pop_size[80], \n",
        "                           160: pop_size[160]}).set_index(\"Random seed\")\n",
        "size_UX = pd.DataFrame({\"Random seed\": pop_size.index, \n",
        "                           10: pop_size[\"10.1\"], \n",
        "                           20: pop_size[\"20.1\"], \n",
        "                           40: pop_size[\"40.1\"], \n",
        "                           80: pop_size[\"80.1\"], \n",
        "                           160: pop_size[\"160.1\"]}).set_index(\"Random seed\")\n",
        "\n",
        "eva_OneX = pd.DataFrame({\"Random seed\": evaluations_size.index, \n",
        "                           10: evaluations_size[10], \n",
        "                           20: evaluations_size[20], \n",
        "                           40: evaluations_size[40], \n",
        "                           80: evaluations_size[80], \n",
        "                           160: evaluations_size[160]}).set_index(\"Random seed\")\n",
        "eva_UX = pd.DataFrame({\"Random seed\": evaluations_size.index, \n",
        "                           10: evaluations_size[\"10.1\"], \n",
        "                           20: evaluations_size[\"20.1\"], \n",
        "                           40: evaluations_size[\"40.1\"], \n",
        "                           80: evaluations_size[\"80.1\"], \n",
        "                           160: evaluations_size[\"160.1\"]}).set_index(\"Random seed\")\n",
        "\n",
        "print(\"\\nOneMax-1X_Size\", size_OneX.std(), sep=\"\\n\")\n",
        "print(\"\\nOneMax-UX_Size\", size_UX.std(), sep=\"\\n\")\n",
        "print(\"\\nnOneMax-1X_Eva\", eva_OneX.std(), sep=\"\\n\")\n",
        "print(\"\\nnOneMax-UX_Eva\", eva_UX.std(), sep=\"\\n\")\n"
      ],
      "metadata": {
        "colab": {
          "base_uri": "https://localhost:8080/"
        },
        "id": "k1AZb9nkmwyl",
        "outputId": "091389ea-d2de-4c40-ccc0-f895c6b4df63"
      },
      "execution_count": 16,
      "outputs": [
        {
          "output_type": "stream",
          "name": "stdout",
          "text": [
            "             10  20   40   80   160  10.1  20.1  40.1  80.1  160.1\n",
            "Random seed                                                       \n",
            "20520835     24  48  192  384  3072    24    24    96    96    192\n",
            "20520845     24  48  192  768  3072    24    24    48    96    192\n",
            "20520855     24  48  192  768  3072    12    24    48    96     96\n",
            "20520865     24  96  384  768  3072    24    24    48    96    192\n",
            "20520875     24  96  192  768  3072    12    48    48    96     96\n",
            "20520885     24  48  384  384  3072    24    24    48    96    192\n",
            "20520895     24  96  192  768  1536    12    24    48    96    192\n",
            "20520905     24  48  192  384  3072    12    48    48    48    192\n",
            "20520915     24  96  192  768  3072    12    24    48    48    192\n",
            "20520925     24  96  192  768  3072    24    24    48    96    192\n",
            "                10      20      40       80       160   10.1   20.1    40.1  \\\n",
            "Random seed                                                                   \n",
            "20520835     243.2   748.8  4582.4  14796.8  156467.2  217.6  316.8  1766.4   \n",
            "20520845     243.2   761.6  4582.4  25497.6  154828.8  227.2  313.6   908.8   \n",
            "20520855     217.6   736.0  4428.8  25600.0  157696.0  115.2  332.8   896.0   \n",
            "20520865     227.2  1446.4  8192.0  25907.2  158105.6  220.8  326.4   889.6   \n",
            "20520875     236.8  1369.6  4300.8  25804.8  154419.2  108.8  633.6   921.6   \n",
            "20520885     240.0   812.8  7987.2  13824.0  157286.4  227.2  326.4   915.2   \n",
            "20520895     262.4  1408.0  4582.4  25907.2   81715.2  113.6  307.2   921.6   \n",
            "20520905     249.6   819.2  4326.4  14284.8  157286.4  113.6  633.6   934.4   \n",
            "20520915     224.0  1420.8  4326.4  26624.0  160153.6  107.2  329.6   928.0   \n",
            "20520925     236.8  1472.0  4275.2  25600.0  153600.0  214.4  320.0   928.0   \n",
            "\n",
            "               80.1   160.1  \n",
            "Random seed                  \n",
            "20520835     2521.6  7219.2  \n",
            "20520845     2534.4  7219.2  \n",
            "20520855     2547.2  3814.4  \n",
            "20520865     2585.6  7193.6  \n",
            "20520875     2572.8  3814.4  \n",
            "20520885     2534.4  7168.0  \n",
            "20520895     2560.0  7219.2  \n",
            "20520905     1369.6  7270.4  \n",
            "20520915     1344.0  7116.8  \n",
            "20520925     2560.0  7193.6  \n",
            "\n",
            "OneMax-1X_Size\n",
            "10       0.000000\n",
            "20      25.298221\n",
            "40      80.954308\n",
            "80     185.489622\n",
            "160    485.725849\n",
            "dtype: float64\n",
            "\n",
            "OneMax-UX_Size\n",
            "10      6.324555\n",
            "20     10.119289\n",
            "40     15.178933\n",
            "80     20.238577\n",
            "160    40.477154\n",
            "dtype: float64\n",
            "\n",
            "nOneMax-1X_Eva\n",
            "10        12.994084\n",
            "20       343.271829\n",
            "40      1550.356610\n",
            "80      5590.879542\n",
            "160    23775.634526\n",
            "dtype: float64\n",
            "\n",
            "nOneMax-UX_Eva\n",
            "10       58.020441\n",
            "20      131.775432\n",
            "40      269.327736\n",
            "80      504.335521\n",
            "160    1428.042561\n",
            "dtype: float64\n"
          ]
        }
      ]
    },
    {
      "cell_type": "markdown",
      "source": [
        "* Ttest for checking statistical significance"
      ],
      "metadata": {
        "id": "hC-YifqrypiG"
      }
    },
    {
      "cell_type": "code",
      "source": [
        "problem_size = [10, 20, 40, 80, 160]\n",
        "alpha = 0.05\n",
        "for i in problem_size:\n",
        "  # print(stats.ttest_ind(size_OneX[i], size_UX[i]))\n",
        "  print(\"Problem size: \", i)\n",
        "  print(\"-pop_size:\", stats.ttest_ind(size_OneX[i], size_UX[i]).pvalue < alpha)\n",
        "  print(\"-evaluation:\", stats.ttest_ind(eva_OneX[i], eva_UX[i]).pvalue < alpha)"
      ],
      "metadata": {
        "colab": {
          "base_uri": "https://localhost:8080/"
        },
        "id": "wOOcATHFyP4D",
        "outputId": "de9c5a3c-bd42-4320-84c0-5697b0209e73"
      },
      "execution_count": 17,
      "outputs": [
        {
          "output_type": "stream",
          "name": "stdout",
          "text": [
            "Problem size:  10\n",
            "-pop_size: True\n",
            "-evaluation: True\n",
            "Problem size:  20\n",
            "-pop_size: True\n",
            "-evaluation: True\n",
            "Problem size:  40\n",
            "-pop_size: True\n",
            "-evaluation: True\n",
            "Problem size:  80\n",
            "-pop_size: True\n",
            "-evaluation: True\n",
            "Problem size:  160\n",
            "-pop_size: True\n",
            "-evaluation: True\n"
          ]
        }
      ]
    },
    {
      "cell_type": "markdown",
      "source": [
        "* Visualize MRPS"
      ],
      "metadata": {
        "id": "MYXFSPmz0tAC"
      }
    },
    {
      "cell_type": "code",
      "source": [
        "plt.yscale(\"log\", basey = 2)\n",
        "plt.xscale(\"log\", basex = 2)\n",
        "\n",
        "x = np.array(size_OneX.mean().index, dtype=float)\n",
        "y = size_OneX.mean().values\n",
        "error = size_OneX.std().values\n",
        "plt.xticks(x)\n",
        "# print(x,y,error)\n",
        "plt.errorbar(x,y,error, fmt=\"b.--\", label = \"OneMax - 1X\")\n",
        "plt.fill_between(x, y + error, y - error, color=\"#0000FF5F\")\n",
        "\n",
        "x = np.array(size_UX.mean().index, dtype=float)\n",
        "y = size_UX.mean().values\n",
        "error = size_UX.std().values\n",
        "# print(x,y,error)\n",
        "plt.errorbar(x,y,error, fmt=\"g.--\", label = \"OneMax - UX\")\n",
        "plt.fill_between(x, y + error, y - error, color=\"#00FF005F\")\n",
        "\n",
        "\n",
        "\n",
        "plt.xlabel(\"Prolem size\")\n",
        "plt.ylabel(\"MRPS\")\n",
        "plt.title(\"Mean error bar of MRPS\")\n",
        "plt.legend(loc = \"upper left\")\n",
        "plt.subplot().xaxis.set_major_formatter(mticker.ScalarFormatter())\n"
      ],
      "metadata": {
        "colab": {
          "base_uri": "https://localhost:8080/",
          "height": 332
        },
        "id": "O2Flv_YqOm8m",
        "outputId": "2569798d-e0c0-4b01-d6ff-2988c40e652a"
      },
      "execution_count": 18,
      "outputs": [
        {
          "output_type": "stream",
          "name": "stderr",
          "text": [
            "/usr/local/lib/python3.7/dist-packages/ipykernel_launcher.py:25: MatplotlibDeprecationWarning: Adding an axes using the same arguments as a previous axes currently reuses the earlier instance.  In a future version, a new instance will always be created and returned.  Meanwhile, this warning can be suppressed, and the future behavior ensured, by passing a unique label to each axes instance.\n"
          ]
        },
        {
          "output_type": "display_data",
          "data": {
            "text/plain": [
              "<Figure size 432x288 with 1 Axes>"
            ],
            "image/png": "[encoded data removed]"
          },
          "metadata": {
            "needs_background": "light"
          }
        }
      ]
    },
    {
      "cell_type": "markdown",
      "source": [
        "* Visualize evalations"
      ],
      "metadata": {
        "id": "Xzf7vZgN9OkP"
      }
    },
    {
      "cell_type": "code",
      "source": [
        "plt.yscale(\"log\", basey = 2)\n",
        "plt.xscale(\"log\", basex = 2)\n",
        "\n",
        "x = np.array(eva_OneX.mean().index, dtype=float)\n",
        "y = eva_OneX.mean().values\n",
        "error = eva_OneX.std().values\n",
        "# print(x,y,error)\n",
        "plt.errorbar(x,y,error, fmt=\"b.--\", label = \"OneMax - 1X\")\n",
        "plt.fill_between(x, y + error, y - error, color=\"#0000FF5F\")\n",
        "\n",
        "x = np.array(eva_UX.mean().index, dtype=float)\n",
        "y = eva_UX.mean().values\n",
        "error = eva_UX.std().values\n",
        "print(x,y,error)\n",
        "plt.errorbar(x,y,error, fmt=\"g.--\", label = \"OneMax - UX\")\n",
        "plt.fill_between(x, y + error, y - error, color=\"#00FF005F\")\n",
        "\n",
        "\n",
        "plt.xticks(x)\n",
        "plt.xlabel(\"Prolem size\")\n",
        "plt.ylabel(\"Evaluations\")\n",
        "plt.title(\"Mean error bar of evalutaion size\")\n",
        "plt.legend(loc = \"upper left\")\n",
        "plt.subplot().xaxis.set_major_formatter(mticker.ScalarFormatter())\n"
      ],
      "metadata": {
        "colab": {
          "base_uri": "https://localhost:8080/",
          "height": 350
        },
        "id": "3766uhnD9cz4",
        "outputId": "a4c256f4-4960-4400-9d40-b5b95037b31a"
      },
      "execution_count": 19,
      "outputs": [
        {
          "output_type": "stream",
          "name": "stdout",
          "text": [
            "[ 10.  20.  40.  80. 160.] [ 166.56  384.   1000.96 2312.96 6522.88] [  58.02044084  131.77543187  269.32773592  504.33552148 1428.04256146]\n"
          ]
        },
        {
          "output_type": "stream",
          "name": "stderr",
          "text": [
            "/usr/local/lib/python3.7/dist-packages/ipykernel_launcher.py:24: MatplotlibDeprecationWarning: Adding an axes using the same arguments as a previous axes currently reuses the earlier instance.  In a future version, a new instance will always be created and returned.  Meanwhile, this warning can be suppressed, and the future behavior ensured, by passing a unique label to each axes instance.\n"
          ]
        },
        {
          "output_type": "display_data",
          "data": {
            "text/plain": [
              "<Figure size 432x288 with 1 Axes>"
            ],
            "image/png": "[encoded data removed]"
          },
          "metadata": {
            "needs_background": "light"
          }
        }
      ]
    },
    {
      "cell_type": "markdown",
      "source": [
        "2. Trap-5"
      ],
      "metadata": {
        "id": "qMb0Xj7TxQ6P"
      }
    },
    {
      "cell_type": "markdown",
      "source": [
        "* Calculate std"
      ],
      "metadata": {
        "id": "VFscFMXNxQ6S"
      }
    },
    {
      "cell_type": "code",
      "source": [
        "pop_size = pd.read_excel(\"BaoCaoLab2_CS410.xlsx\", sheet_name=\"Trap-5\", index_col=0, skiprows=1, nrows=10)\n",
        "evaluations_size = pd.read_excel(\"BaoCaoLab2_CS410.xlsx\", sheet_name=\"Trap-5\", index_col=0, skiprows=15, nrows=10)\n",
        "print(pop_size)\n",
        "print(evaluations_size)\n",
        "\n",
        "size_OneX = pd.DataFrame({\"Random seed\": pop_size.index, \n",
        "                           10: pop_size[10], \n",
        "                           20: pop_size[20], \n",
        "                           40: pop_size[40], \n",
        "                           80: pop_size[80], \n",
        "                           160: pop_size[160]}).set_index(\"Random seed\")\n",
        "size_UX = pd.DataFrame({\"Random seed\": pop_size.index, \n",
        "                           10: pop_size[\"10.1\"], \n",
        "                           20: pop_size[\"20.1\"], \n",
        "                           40: pop_size[\"40.1\"], \n",
        "                           80: pop_size[\"80.1\"], \n",
        "                           160: pop_size[\"160.1\"]}).set_index(\"Random seed\")\n",
        "\n",
        "eva_OneX = pd.DataFrame({\"Random seed\": evaluations_size.index, \n",
        "                           10: evaluations_size[10], \n",
        "                           20: evaluations_size[20], \n",
        "                           40: evaluations_size[40], \n",
        "                           80: evaluations_size[80], \n",
        "                           160: evaluations_size[160]}).set_index(\"Random seed\")\n",
        "eva_UX = pd.DataFrame({\"Random seed\": evaluations_size.index, \n",
        "                           10: evaluations_size[\"10.1\"], \n",
        "                           20: evaluations_size[\"20.1\"], \n",
        "                           40: evaluations_size[\"40.1\"], \n",
        "                           80: evaluations_size[\"80.1\"], \n",
        "                           160: evaluations_size[\"160.1\"]}).set_index(\"Random seed\")\n",
        "\n",
        "print(\"\\nTrap-5-1X_Size\", size_OneX.std(), sep=\"\\n\")\n",
        "print(\"\\nTrap-5-UX_Size\", size_UX.std(), sep=\"\\n\")\n",
        "print(\"\\nnTrap-5-1X_Eva\", eva_OneX.std(), sep=\"\\n\")\n",
        "print(\"\\nnTrap-5-UX_Eva\", eva_UX.std(), sep=\"\\n\")\n"
      ],
      "metadata": {
        "colab": {
          "base_uri": "https://localhost:8080/"
        },
        "outputId": "308e29df-81bb-4235-bb41-6846c8f94e89",
        "id": "QKXjkRTdxQ6S"
      },
      "execution_count": 20,
      "outputs": [
        {
          "output_type": "stream",
          "name": "stdout",
          "text": [
            "              10   20    40    80   160  10.1  20.1  40.1  80.1 160.1\n",
            "Random seed                                                          \n",
            "20520835      48  192   384  3072  None   192  6144  None  None  None\n",
            "20520845      96  192   768  3072  None    96  6144  None  None  None\n",
            "20520855      96  192  1536  3072  None   384  3072  None  None  None\n",
            "20520865      96  384   768  3072  None   384  6144  None  None  None\n",
            "20520875      96  192   768  3072  None   192  6144  None  None  None\n",
            "20520885      96  192   768  6144  None   384  6144  None  None  None\n",
            "20520895      96  192   768  1536  None   192  3072  None  None  None\n",
            "20520905     192  384   768  3072  None   192  6144  None  None  None\n",
            "20520915      96  384   768  1536  None   192  3072  None  None  None\n",
            "20520925      96  192   768  3072  None   192  3072  None  None  None\n",
            "                 10      20       40        80   160    10.1      20.1  40.1  \\\n",
            "Random seed                                                                    \n",
            "20520835      569.6  3353.6   9676.8  117145.6  None  3379.2  212992.0  None   \n",
            "20520845     1100.8  3302.4  18739.2  111411.2  None  1651.2  195788.8  None   \n",
            "20520855     1203.2  3174.4  35840.0  111411.2  None  6041.6  105267.2  None   \n",
            "20520865     1113.6  6656.0  19046.4  111001.6  None  6860.8  201523.2  None   \n",
            "20520875     1139.2  3379.2  19660.8  109772.8  None  4838.4  200704.0  None   \n",
            "20520885     1036.8  3302.4  18227.2  208896.0  None  6348.8  193331.2  None   \n",
            "20520895     1177.6  3302.4  18534.4   58572.8  None  3200.0  107724.8  None   \n",
            "20520905     2150.4  6348.8  19148.8  114278.4  None  2841.6  183500.8  None   \n",
            "20520915     1024.0  6400.0  18227.2   59801.6  None  2969.6   99942.4  None   \n",
            "20520925     1190.4  3276.8  19353.6  113868.8  None  3200.0  104857.6  None   \n",
            "\n",
            "             80.1 160.1  \n",
            "Random seed              \n",
            "20520835     None  None  \n",
            "20520845     None  None  \n",
            "20520855     None  None  \n",
            "20520865     None  None  \n",
            "20520875     None  None  \n",
            "20520885     None  None  \n",
            "20520895     None  None  \n",
            "20520905     None  None  \n",
            "20520915     None  None  \n",
            "20520925     None  None  \n",
            "\n",
            "Trap-5-1X_Size\n",
            "10      35.417510\n",
            "20      92.744811\n",
            "40     283.340078\n",
            "80    1254.138748\n",
            "dtype: float64\n",
            "\n",
            "Trap-5-UX_Size\n",
            "10     103.691851\n",
            "20    1586.373979\n",
            "dtype: float64\n",
            "\n",
            "nTrap-5-1X_Eva\n",
            "10      390.329465\n",
            "20     1533.912656\n",
            "40     6397.976711\n",
            "80    40836.136273\n",
            "dtype: float64\n",
            "\n",
            "nTrap-5-UX_Eva\n",
            "10     1763.227554\n",
            "20    48883.128312\n",
            "dtype: float64\n"
          ]
        },
        {
          "output_type": "stream",
          "name": "stderr",
          "text": [
            "/usr/local/lib/python3.7/dist-packages/ipykernel_launcher.py:32: FutureWarning: Dropping of nuisance columns in DataFrame reductions (with 'numeric_only=None') is deprecated; in a future version this will raise TypeError.  Select only valid columns before calling the reduction.\n",
            "/usr/local/lib/python3.7/dist-packages/ipykernel_launcher.py:33: FutureWarning: Dropping of nuisance columns in DataFrame reductions (with 'numeric_only=None') is deprecated; in a future version this will raise TypeError.  Select only valid columns before calling the reduction.\n",
            "/usr/local/lib/python3.7/dist-packages/ipykernel_launcher.py:34: FutureWarning: Dropping of nuisance columns in DataFrame reductions (with 'numeric_only=None') is deprecated; in a future version this will raise TypeError.  Select only valid columns before calling the reduction.\n",
            "/usr/local/lib/python3.7/dist-packages/ipykernel_launcher.py:35: FutureWarning: Dropping of nuisance columns in DataFrame reductions (with 'numeric_only=None') is deprecated; in a future version this will raise TypeError.  Select only valid columns before calling the reduction.\n"
          ]
        }
      ]
    },
    {
      "cell_type": "markdown",
      "source": [
        "* Ttest for checking statistical significance"
      ],
      "metadata": {
        "id": "3OvkmJVs9X5v"
      }
    },
    {
      "cell_type": "code",
      "source": [
        "# problem_size = [10, 20, 40, 80, 160]\n",
        "problem_size = [10, 20]\n",
        "alpha = 0.05\n",
        "for i in problem_size:\n",
        "  # print(stats.ttest_ind(size_OneX[i], size_UX[i]))\n",
        "  print(\"Problem size: \", i)\n",
        "  print(\"-pop_size:\", stats.ttest_ind(size_OneX[i], size_UX[i]).pvalue < alpha)\n",
        "  print(\"-evaluation:\", stats.ttest_ind(eva_OneX[i], eva_UX[i]).pvalue < alpha)"
      ],
      "metadata": {
        "colab": {
          "base_uri": "https://localhost:8080/"
        },
        "outputId": "16688eb6-6c1c-4239-c66d-c3a1e71eacd7",
        "id": "psUEVoHV9X6D"
      },
      "execution_count": 21,
      "outputs": [
        {
          "output_type": "stream",
          "name": "stdout",
          "text": [
            "Problem size:  10\n",
            "-pop_size: True\n",
            "-evaluation: True\n",
            "Problem size:  20\n",
            "-pop_size: True\n",
            "-evaluation: True\n"
          ]
        }
      ]
    },
    {
      "cell_type": "markdown",
      "source": [
        "* Visualize MRPS"
      ],
      "metadata": {
        "id": "66boeKrP9X6E"
      }
    },
    {
      "cell_type": "code",
      "source": [
        "plt.yscale(\"log\", basey = 2)\n",
        "plt.xscale(\"log\", basex = 2)\n",
        "\n",
        "x = np.array(size_OneX.mean().index, dtype=float)\n",
        "y = size_OneX.mean().values\n",
        "error = size_OneX.std().values\n",
        "plt.xticks(x)\n",
        "# print(x,y,error)\n",
        "plt.errorbar(x,y,error, fmt=\"b.--\", label = \"OneMax - 1X\")\n",
        "plt.fill_between(x, y + error, y - error, color=\"#0000FF5F\")\n",
        "\n",
        "x = np.array(size_UX.mean().index, dtype=float)\n",
        "y = size_UX.mean().values\n",
        "error = size_UX.std().values\n",
        "# print(x,y,error)\n",
        "plt.errorbar(x,y,error, fmt=\"g.--\", label = \"OneMax - UX\")\n",
        "plt.fill_between(x, y + error, y - error, color=\"#00FF005F\")\n",
        "\n",
        "\n",
        "\n",
        "plt.xlabel(\"Prolem size\")\n",
        "plt.ylabel(\"MRPS\")\n",
        "plt.title(\"Mean error bar of MRPS\")\n",
        "plt.legend(loc = \"upper left\")\n",
        "plt.subplot().xaxis.set_major_formatter(mticker.ScalarFormatter())\n"
      ],
      "metadata": {
        "colab": {
          "base_uri": "https://localhost:8080/",
          "height": 541
        },
        "outputId": "5bd71612-494d-4865-baab-6bde7160c5a1",
        "id": "FzHKfyjk9X6G"
      },
      "execution_count": 22,
      "outputs": [
        {
          "output_type": "stream",
          "name": "stderr",
          "text": [
            "/usr/local/lib/python3.7/dist-packages/ipykernel_launcher.py:4: FutureWarning: Dropping of nuisance columns in DataFrame reductions (with 'numeric_only=None') is deprecated; in a future version this will raise TypeError.  Select only valid columns before calling the reduction.\n",
            "  after removing the cwd from sys.path.\n",
            "/usr/local/lib/python3.7/dist-packages/ipykernel_launcher.py:5: FutureWarning: Dropping of nuisance columns in DataFrame reductions (with 'numeric_only=None') is deprecated; in a future version this will raise TypeError.  Select only valid columns before calling the reduction.\n",
            "  \"\"\"\n",
            "/usr/local/lib/python3.7/dist-packages/ipykernel_launcher.py:6: FutureWarning: Dropping of nuisance columns in DataFrame reductions (with 'numeric_only=None') is deprecated; in a future version this will raise TypeError.  Select only valid columns before calling the reduction.\n",
            "  \n",
            "/usr/local/lib/python3.7/dist-packages/ipykernel_launcher.py:12: FutureWarning: Dropping of nuisance columns in DataFrame reductions (with 'numeric_only=None') is deprecated; in a future version this will raise TypeError.  Select only valid columns before calling the reduction.\n",
            "  if sys.path[0] == '':\n",
            "/usr/local/lib/python3.7/dist-packages/ipykernel_launcher.py:13: FutureWarning: Dropping of nuisance columns in DataFrame reductions (with 'numeric_only=None') is deprecated; in a future version this will raise TypeError.  Select only valid columns before calling the reduction.\n",
            "  del sys.path[0]\n",
            "/usr/local/lib/python3.7/dist-packages/ipykernel_launcher.py:14: FutureWarning: Dropping of nuisance columns in DataFrame reductions (with 'numeric_only=None') is deprecated; in a future version this will raise TypeError.  Select only valid columns before calling the reduction.\n",
            "  \n",
            "/usr/local/lib/python3.7/dist-packages/ipykernel_launcher.py:25: MatplotlibDeprecationWarning: Adding an axes using the same arguments as a previous axes currently reuses the earlier instance.  In a future version, a new instance will always be created and returned.  Meanwhile, this warning can be suppressed, and the future behavior ensured, by passing a unique label to each axes instance.\n"
          ]
        },
        {
          "output_type": "display_data",
          "data": {
            "text/plain": [
              "<Figure size 432x288 with 1 Axes>"
            ],
            "image/png": "[encoded data removed]"
          },
          "metadata": {
            "needs_background": "light"
          }
        }
      ]
    },
    {
      "cell_type": "markdown",
      "source": [
        "* Visualize evaluations"
      ],
      "metadata": {
        "id": "7bWM2jgm-PJ9"
      }
    },
    {
      "cell_type": "code",
      "source": [
        "plt.yscale(\"log\", basey = 2)\n",
        "plt.xscale(\"log\", basex = 2)\n",
        "\n",
        "x = np.array(eva_OneX.mean().index, dtype=float)\n",
        "y = eva_OneX.mean().values\n",
        "error = eva_OneX.std().values\n",
        "plt.xticks(x)\n",
        "# print(x,y,error)\n",
        "plt.errorbar(x,y,error, fmt=\"b.--\", label = \"OneMax - 1X\")\n",
        "plt.fill_between(x, y + error, y - error, color=\"#0000FF5F\")\n",
        "\n",
        "x = np.array(eva_UX.mean().index, dtype=float)\n",
        "y = eva_UX.mean().values\n",
        "error = eva_UX.std().values\n",
        "# print(x,y,error)\n",
        "plt.errorbar(x,y,error, fmt=\"g.--\", label = \"OneMax - UX\")\n",
        "plt.fill_between(x, y + error, y - error, color=\"#00FF005F\")\n",
        "\n",
        "\n",
        "\n",
        "plt.xlabel(\"Prolem size\")\n",
        "plt.ylabel(\"Evaluations\")\n",
        "plt.title(\"Mean error bar of evalutaion size\")\n",
        "plt.legend(loc = \"upper left\")\n",
        "plt.subplot().xaxis.set_major_formatter(mticker.ScalarFormatter())\n"
      ],
      "metadata": {
        "colab": {
          "base_uri": "https://localhost:8080/",
          "height": 541
        },
        "id": "OMxqB6gI-YU4",
        "outputId": "92dc4946-4cca-4a6e-b8a3-115ff0730282"
      },
      "execution_count": 23,
      "outputs": [
        {
          "output_type": "stream",
          "name": "stderr",
          "text": [
            "/usr/local/lib/python3.7/dist-packages/ipykernel_launcher.py:4: FutureWarning: Dropping of nuisance columns in DataFrame reductions (with 'numeric_only=None') is deprecated; in a future version this will raise TypeError.  Select only valid columns before calling the reduction.\n",
            "  after removing the cwd from sys.path.\n",
            "/usr/local/lib/python3.7/dist-packages/ipykernel_launcher.py:5: FutureWarning: Dropping of nuisance columns in DataFrame reductions (with 'numeric_only=None') is deprecated; in a future version this will raise TypeError.  Select only valid columns before calling the reduction.\n",
            "  \"\"\"\n",
            "/usr/local/lib/python3.7/dist-packages/ipykernel_launcher.py:6: FutureWarning: Dropping of nuisance columns in DataFrame reductions (with 'numeric_only=None') is deprecated; in a future version this will raise TypeError.  Select only valid columns before calling the reduction.\n",
            "  \n",
            "/usr/local/lib/python3.7/dist-packages/ipykernel_launcher.py:12: FutureWarning: Dropping of nuisance columns in DataFrame reductions (with 'numeric_only=None') is deprecated; in a future version this will raise TypeError.  Select only valid columns before calling the reduction.\n",
            "  if sys.path[0] == '':\n",
            "/usr/local/lib/python3.7/dist-packages/ipykernel_launcher.py:13: FutureWarning: Dropping of nuisance columns in DataFrame reductions (with 'numeric_only=None') is deprecated; in a future version this will raise TypeError.  Select only valid columns before calling the reduction.\n",
            "  del sys.path[0]\n",
            "/usr/local/lib/python3.7/dist-packages/ipykernel_launcher.py:14: FutureWarning: Dropping of nuisance columns in DataFrame reductions (with 'numeric_only=None') is deprecated; in a future version this will raise TypeError.  Select only valid columns before calling the reduction.\n",
            "  \n",
            "/usr/local/lib/python3.7/dist-packages/ipykernel_launcher.py:25: MatplotlibDeprecationWarning: Adding an axes using the same arguments as a previous axes currently reuses the earlier instance.  In a future version, a new instance will always be created and returned.  Meanwhile, this warning can be suppressed, and the future behavior ensured, by passing a unique label to each axes instance.\n"
          ]
        },
        {
          "output_type": "display_data",
          "data": {
            "text/plain": [
              "<Figure size 432x288 with 1 Axes>"
            ],
            "image/png": "[encoded data removed]"
          },
          "metadata": {
            "needs_background": "light"
          }
        }
      ]
    }
  ],
  "metadata": {
    "anaconda-cloud": {},
    "colab": {
      "provenance": [],
      "collapsed_sections": []
    },
    "kernelspec": {
      "display_name": "Python 3",
      "name": "python3"
    },
    "language_info": {
      "name": "python"
    }
  },
  "nbformat": 4,
  "nbformat_minor": 0
}